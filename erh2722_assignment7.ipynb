{
 "cells": [
  {
   "cell_type": "markdown",
   "id": "e8f55fc4",
   "metadata": {},
   "source": [
    "# I310D Assignment 7: Data Curation and Analysis"
   ]
  },
  {
   "cell_type": "markdown",
   "id": "752ee130",
   "metadata": {},
   "source": [
    "## Step 1: Extraction, Transformation, and Loading"
   ]
  },
  {
   "cell_type": "markdown",
   "id": "7a5153eb",
   "metadata": {},
   "source": [
    "### 1.1: Extraction"
   ]
  },
  {
   "cell_type": "markdown",
   "id": "0b282fb9",
   "metadata": {},
   "source": [
    "I first imported my required libraries: pandas, request, and BeautifulSoup."
   ]
  },
  {
   "cell_type": "code",
   "execution_count": 124,
   "id": "6524fa27",
   "metadata": {},
   "outputs": [],
   "source": [
    "import pandas as pd\n",
    "import requests\n",
    "from bs4 import BeautifulSoup"
   ]
  },
  {
   "cell_type": "markdown",
   "id": "fcb62de9",
   "metadata": {},
   "source": [
    "Next, I entered the url for my selected wikipedia website, then checked for the status code of 200."
   ]
  },
  {
   "cell_type": "code",
   "execution_count": 125,
   "id": "47275dfd",
   "metadata": {},
   "outputs": [
    {
     "name": "stdout",
     "output_type": "stream",
     "text": [
      "200\n"
     ]
    }
   ],
   "source": [
    "wikiurl=\"https://en.wikipedia.org/wiki/List_of_National_Basketball_Association_annual_scoring_leaders#:~:text=Wilt%20Chamberlain%20holds%20the%20all,in%20the%201961%E2%80%9362%20season.\"\n",
    "table_class=\"wikitable sortable jquery-tablesorter\"\n",
    "response=requests.get(wikiurl)\n",
    "print(response.status_code)"
   ]
  },
  {
   "cell_type": "markdown",
   "id": "5074e10f",
   "metadata": {},
   "source": [
    "Next, I used used BeautifulSoup to parse the wiki page I selected.\n",
    "I found everything labelled as \"table\" in the in wiki's source code, then collected the data from the 0th indexed table. \n",
    "I then converted the raw data into a dataframe using pandas, and printed the first few elements of the dataframe to make sure everything worked."
   ]
  },
  {
   "cell_type": "code",
   "execution_count": 126,
   "id": "6276b2e3",
   "metadata": {
    "scrolled": true
   },
   "outputs": [
    {
     "data": {
      "text/html": [
       "<div>\n",
       "<style scoped>\n",
       "    .dataframe tbody tr th:only-of-type {\n",
       "        vertical-align: middle;\n",
       "    }\n",
       "\n",
       "    .dataframe tbody tr th {\n",
       "        vertical-align: top;\n",
       "    }\n",
       "\n",
       "    .dataframe thead th {\n",
       "        text-align: right;\n",
       "    }\n",
       "</style>\n",
       "<table border=\"1\" class=\"dataframe\">\n",
       "  <thead>\n",
       "    <tr style=\"text-align: right;\">\n",
       "      <th></th>\n",
       "      <th>Season</th>\n",
       "      <th>Player</th>\n",
       "      <th>Age[b]</th>\n",
       "      <th>Pos[c]</th>\n",
       "      <th>Team</th>\n",
       "      <th>Gamesplayed</th>\n",
       "      <th>Field goalsmade</th>\n",
       "      <th>3-pointfield goalsmade</th>\n",
       "      <th>Free throwsmade</th>\n",
       "      <th>Totalpoints</th>\n",
       "      <th>Points pergame</th>\n",
       "      <th>Ref</th>\n",
       "    </tr>\n",
       "  </thead>\n",
       "  <tbody>\n",
       "    <tr>\n",
       "      <th>0</th>\n",
       "      <td>1946–47</td>\n",
       "      <td>Joe Fulks*</td>\n",
       "      <td>25</td>\n",
       "      <td>F/C</td>\n",
       "      <td>Philadelphia Warriors</td>\n",
       "      <td>60</td>\n",
       "      <td>475</td>\n",
       "      <td>—</td>\n",
       "      <td>439</td>\n",
       "      <td>1389</td>\n",
       "      <td>23.2</td>\n",
       "      <td>[13][14]</td>\n",
       "    </tr>\n",
       "    <tr>\n",
       "      <th>1</th>\n",
       "      <td>1947–48</td>\n",
       "      <td>Max Zaslofsky[d]</td>\n",
       "      <td>22</td>\n",
       "      <td>G/F</td>\n",
       "      <td>Chicago Stags</td>\n",
       "      <td>48</td>\n",
       "      <td>373</td>\n",
       "      <td>—</td>\n",
       "      <td>261</td>\n",
       "      <td>1007</td>\n",
       "      <td>21.0</td>\n",
       "      <td>[16][17]</td>\n",
       "    </tr>\n",
       "    <tr>\n",
       "      <th>2</th>\n",
       "      <td>1948–49</td>\n",
       "      <td>George Mikan*</td>\n",
       "      <td>24</td>\n",
       "      <td>C</td>\n",
       "      <td>Minneapolis Lakers</td>\n",
       "      <td>60</td>\n",
       "      <td>583</td>\n",
       "      <td>—</td>\n",
       "      <td>532</td>\n",
       "      <td>1698</td>\n",
       "      <td>28.3</td>\n",
       "      <td>[18][19]</td>\n",
       "    </tr>\n",
       "    <tr>\n",
       "      <th>3</th>\n",
       "      <td>1949–50</td>\n",
       "      <td>George Mikan* (2)</td>\n",
       "      <td>25</td>\n",
       "      <td>C</td>\n",
       "      <td>Minneapolis Lakers</td>\n",
       "      <td>68</td>\n",
       "      <td>649</td>\n",
       "      <td>—</td>\n",
       "      <td>567</td>\n",
       "      <td>1865</td>\n",
       "      <td>27.4</td>\n",
       "      <td>[19][20]</td>\n",
       "    </tr>\n",
       "    <tr>\n",
       "      <th>4</th>\n",
       "      <td>1950–51</td>\n",
       "      <td>George Mikan* (3)</td>\n",
       "      <td>26</td>\n",
       "      <td>C</td>\n",
       "      <td>Minneapolis Lakers</td>\n",
       "      <td>68</td>\n",
       "      <td>678</td>\n",
       "      <td>—</td>\n",
       "      <td>576</td>\n",
       "      <td>1932</td>\n",
       "      <td>28.4</td>\n",
       "      <td>[19][21]</td>\n",
       "    </tr>\n",
       "  </tbody>\n",
       "</table>\n",
       "</div>"
      ],
      "text/plain": [
       "    Season             Player  Age[b] Pos[c]                   Team  \\\n",
       "0  1946–47         Joe Fulks*      25    F/C  Philadelphia Warriors   \n",
       "1  1947–48   Max Zaslofsky[d]      22    G/F          Chicago Stags   \n",
       "2  1948–49      George Mikan*      24      C     Minneapolis Lakers   \n",
       "3  1949–50  George Mikan* (2)      25      C     Minneapolis Lakers   \n",
       "4  1950–51  George Mikan* (3)      26      C     Minneapolis Lakers   \n",
       "\n",
       "   Gamesplayed  Field goalsmade 3-pointfield goalsmade  Free throwsmade  \\\n",
       "0           60              475                      —              439   \n",
       "1           48              373                      —              261   \n",
       "2           60              583                      —              532   \n",
       "3           68              649                      —              567   \n",
       "4           68              678                      —              576   \n",
       "\n",
       "   Totalpoints  Points pergame       Ref  \n",
       "0         1389            23.2  [13][14]  \n",
       "1         1007            21.0  [16][17]  \n",
       "2         1698            28.3  [18][19]  \n",
       "3         1865            27.4  [19][20]  \n",
       "4         1932            28.4  [19][21]  "
      ]
     },
     "execution_count": 126,
     "metadata": {},
     "output_type": "execute_result"
    }
   ],
   "source": [
    "soup = BeautifulSoup(response.text, 'html.parser')\n",
    "\n",
    "nbatable=soup.find('table',{'class':\"wikitable plainrowheaders sortable\"})\n",
    "raw_data=pd.read_html(str(nbatable))\n",
    "raw_data=pd.DataFrame(raw_data[0])\n",
    "\n",
    "raw_data.head()"
   ]
  },
  {
   "cell_type": "markdown",
   "id": "fbe24ccc",
   "metadata": {},
   "source": [
    "Now that I had checked my raw data, I uploaded it as a CSV to my computer."
   ]
  },
  {
   "cell_type": "code",
   "execution_count": 127,
   "id": "88b242ad",
   "metadata": {},
   "outputs": [],
   "source": [
    "raw_data.to_csv(\"Wiki_NBAScoringLeaders_Raw.csv\")"
   ]
  },
  {
   "cell_type": "markdown",
   "id": "5d6ecb44",
   "metadata": {},
   "source": [
    "### 1.2: Transformation"
   ]
  },
  {
   "cell_type": "markdown",
   "id": "c3fc3c04",
   "metadata": {},
   "source": [
    "The first step for my transformation process was to clean my data.\n",
    "I removed an unwanted column (\"Ref\"), then cleaned up the headings for each column before performing a progress check."
   ]
  },
  {
   "cell_type": "code",
   "execution_count": 128,
   "id": "ef53be6f",
   "metadata": {},
   "outputs": [
    {
     "data": {
      "text/html": [
       "<div>\n",
       "<style scoped>\n",
       "    .dataframe tbody tr th:only-of-type {\n",
       "        vertical-align: middle;\n",
       "    }\n",
       "\n",
       "    .dataframe tbody tr th {\n",
       "        vertical-align: top;\n",
       "    }\n",
       "\n",
       "    .dataframe thead th {\n",
       "        text-align: right;\n",
       "    }\n",
       "</style>\n",
       "<table border=\"1\" class=\"dataframe\">\n",
       "  <thead>\n",
       "    <tr style=\"text-align: right;\">\n",
       "      <th></th>\n",
       "      <th>Season</th>\n",
       "      <th>Player</th>\n",
       "      <th>Age</th>\n",
       "      <th>Position</th>\n",
       "      <th>Team</th>\n",
       "      <th>Games Played</th>\n",
       "      <th>Field Goals Made</th>\n",
       "      <th>3-Point Field Goals Made</th>\n",
       "      <th>Free Throws Made</th>\n",
       "      <th>Total Points</th>\n",
       "      <th>Points per Game</th>\n",
       "    </tr>\n",
       "  </thead>\n",
       "  <tbody>\n",
       "    <tr>\n",
       "      <th>0</th>\n",
       "      <td>1946–47</td>\n",
       "      <td>Joe Fulks*</td>\n",
       "      <td>25</td>\n",
       "      <td>F/C</td>\n",
       "      <td>Philadelphia Warriors</td>\n",
       "      <td>60</td>\n",
       "      <td>475</td>\n",
       "      <td>—</td>\n",
       "      <td>439</td>\n",
       "      <td>1389</td>\n",
       "      <td>23.2</td>\n",
       "    </tr>\n",
       "    <tr>\n",
       "      <th>1</th>\n",
       "      <td>1947–48</td>\n",
       "      <td>Max Zaslofsky[d]</td>\n",
       "      <td>22</td>\n",
       "      <td>G/F</td>\n",
       "      <td>Chicago Stags</td>\n",
       "      <td>48</td>\n",
       "      <td>373</td>\n",
       "      <td>—</td>\n",
       "      <td>261</td>\n",
       "      <td>1007</td>\n",
       "      <td>21.0</td>\n",
       "    </tr>\n",
       "    <tr>\n",
       "      <th>2</th>\n",
       "      <td>1948–49</td>\n",
       "      <td>George Mikan*</td>\n",
       "      <td>24</td>\n",
       "      <td>C</td>\n",
       "      <td>Minneapolis Lakers</td>\n",
       "      <td>60</td>\n",
       "      <td>583</td>\n",
       "      <td>—</td>\n",
       "      <td>532</td>\n",
       "      <td>1698</td>\n",
       "      <td>28.3</td>\n",
       "    </tr>\n",
       "    <tr>\n",
       "      <th>3</th>\n",
       "      <td>1949–50</td>\n",
       "      <td>George Mikan* (2)</td>\n",
       "      <td>25</td>\n",
       "      <td>C</td>\n",
       "      <td>Minneapolis Lakers</td>\n",
       "      <td>68</td>\n",
       "      <td>649</td>\n",
       "      <td>—</td>\n",
       "      <td>567</td>\n",
       "      <td>1865</td>\n",
       "      <td>27.4</td>\n",
       "    </tr>\n",
       "    <tr>\n",
       "      <th>4</th>\n",
       "      <td>1950–51</td>\n",
       "      <td>George Mikan* (3)</td>\n",
       "      <td>26</td>\n",
       "      <td>C</td>\n",
       "      <td>Minneapolis Lakers</td>\n",
       "      <td>68</td>\n",
       "      <td>678</td>\n",
       "      <td>—</td>\n",
       "      <td>576</td>\n",
       "      <td>1932</td>\n",
       "      <td>28.4</td>\n",
       "    </tr>\n",
       "  </tbody>\n",
       "</table>\n",
       "</div>"
      ],
      "text/plain": [
       "    Season             Player  Age Position                   Team  \\\n",
       "0  1946–47         Joe Fulks*   25      F/C  Philadelphia Warriors   \n",
       "1  1947–48   Max Zaslofsky[d]   22      G/F          Chicago Stags   \n",
       "2  1948–49      George Mikan*   24        C     Minneapolis Lakers   \n",
       "3  1949–50  George Mikan* (2)   25        C     Minneapolis Lakers   \n",
       "4  1950–51  George Mikan* (3)   26        C     Minneapolis Lakers   \n",
       "\n",
       "   Games Played  Field Goals Made 3-Point Field Goals Made  Free Throws Made  \\\n",
       "0            60               475                        —               439   \n",
       "1            48               373                        —               261   \n",
       "2            60               583                        —               532   \n",
       "3            68               649                        —               567   \n",
       "4            68               678                        —               576   \n",
       "\n",
       "   Total Points  Points per Game  \n",
       "0          1389             23.2  \n",
       "1          1007             21.0  \n",
       "2          1698             28.3  \n",
       "3          1865             27.4  \n",
       "4          1932             28.4  "
      ]
     },
     "execution_count": 128,
     "metadata": {},
     "output_type": "execute_result"
    }
   ],
   "source": [
    "final_data = raw_data.drop([\"Ref\"], axis = 1)\n",
    "\n",
    "\n",
    "final_data = final_data.rename(columns={\"Gamesplayed\": \"Games Played\", \"Field goalsmade\": \"Field Goals Made\", \"3-pointfield goalsmade\": \"3-Point Field Goals Made\", \"Age[b]\": \"Age\",\"Pos[c]\": \"Position\", \"Free throwsmade\": \"Free Throws Made\", \"Totalpoints\": \"Total Points\", \"Points pergame\": \"Points per Game\"})\n",
    "final_data.head()"
   ]
  },
  {
   "cell_type": "markdown",
   "id": "98c9c309",
   "metadata": {},
   "source": [
    "Next, I checked for duplicates, and found none."
   ]
  },
  {
   "cell_type": "code",
   "execution_count": 129,
   "id": "a2c01fc8",
   "metadata": {},
   "outputs": [
    {
     "name": "stdout",
     "output_type": "stream",
     "text": [
      " Number of duplicates before : 0\n"
     ]
    }
   ],
   "source": [
    "number_of_duplicates = final_data.duplicated().sum()\n",
    "print (f\" Number of duplicates before : {number_of_duplicates}\")"
   ]
  },
  {
   "cell_type": "markdown",
   "id": "86450715",
   "metadata": {},
   "source": [
    "I then did a progress check on my data, and ensured that I had no null entries."
   ]
  },
  {
   "cell_type": "code",
   "execution_count": 130,
   "id": "79c0d7fc",
   "metadata": {},
   "outputs": [
    {
     "name": "stdout",
     "output_type": "stream",
     "text": [
      "<class 'pandas.core.frame.DataFrame'>\n",
      "RangeIndex: 76 entries, 0 to 75\n",
      "Data columns (total 11 columns):\n",
      " #   Column                    Non-Null Count  Dtype  \n",
      "---  ------                    --------------  -----  \n",
      " 0   Season                    76 non-null     object \n",
      " 1   Player                    76 non-null     object \n",
      " 2   Age                       76 non-null     int64  \n",
      " 3   Position                  76 non-null     object \n",
      " 4   Team                      76 non-null     object \n",
      " 5   Games Played              76 non-null     int64  \n",
      " 6   Field Goals Made          76 non-null     int64  \n",
      " 7   3-Point Field Goals Made  76 non-null     object \n",
      " 8   Free Throws Made          76 non-null     int64  \n",
      " 9   Total Points              76 non-null     int64  \n",
      " 10  Points per Game           76 non-null     float64\n",
      "dtypes: float64(1), int64(5), object(5)\n",
      "memory usage: 6.7+ KB\n"
     ]
    }
   ],
   "source": [
    "final_data.info()"
   ]
  },
  {
   "cell_type": "markdown",
   "id": "8138b4ce",
   "metadata": {},
   "source": [
    "### 1.3: Loading"
   ]
  },
  {
   "cell_type": "markdown",
   "id": "bc96c845",
   "metadata": {},
   "source": [
    "After cleaning my data, I uploaded my final data to my computer as a CSV."
   ]
  },
  {
   "cell_type": "code",
   "execution_count": 131,
   "id": "19c451c4",
   "metadata": {},
   "outputs": [],
   "source": [
    "final_data.to_csv(\"Wiki_NBAScoringLeaders_Final.csv\")"
   ]
  },
  {
   "cell_type": "markdown",
   "id": "97a812ab",
   "metadata": {},
   "source": [
    "## Step 2: Analysis Summary and Visualizations"
   ]
  },
  {
   "cell_type": "markdown",
   "id": "91c9493b",
   "metadata": {},
   "source": [
    "The first step of my analysis process was too import numpy, scipy, pyplot from matplotlib, and InteractiveShell for any graphs or visuals I might need to create."
   ]
  },
  {
   "cell_type": "code",
   "execution_count": 132,
   "id": "6cbcaee3",
   "metadata": {},
   "outputs": [],
   "source": [
    "import numpy as np\n",
    "import scipy\n",
    "from matplotlib import pyplot as plt\n",
    "from IPython.core.interactiveshell import InteractiveShell\n",
    "InteractiveShell.ast_node_interactivity = \"all\""
   ]
  },
  {
   "cell_type": "markdown",
   "id": "ea62bff8",
   "metadata": {},
   "source": [
    "I then loaded my clean CSV file as \"nba_scoring\"."
   ]
  },
  {
   "cell_type": "code",
   "execution_count": 133,
   "id": "1094377a",
   "metadata": {},
   "outputs": [],
   "source": [
    "nba_scoring = pd.read_csv(\"Wiki_NBAScoringLeaders_Final.csv\")"
   ]
  },
  {
   "cell_type": "markdown",
   "id": "4a7b61eb",
   "metadata": {},
   "source": [
    "### 2.1: Line Graph"
   ]
  },
  {
   "cell_type": "markdown",
   "id": "a97f5f75",
   "metadata": {},
   "source": [
    "After looking through my final data to find possible trends in the points per game of NBA scoring leaders, I noticed that the points per game seemed to increase as the seasons pogressed. In order to see if this is true, I created a line graph with the season as the x-axis, and the points per game as the y-axis."
   ]
  },
  {
   "cell_type": "code",
   "execution_count": 134,
   "id": "93e6c74e",
   "metadata": {},
   "outputs": [
    {
     "data": {
      "text/plain": [
       "[<matplotlib.lines.Line2D at 0x1a229ff2100>]"
      ]
     },
     "execution_count": 134,
     "metadata": {},
     "output_type": "execute_result"
    },
    {
     "data": {
      "text/plain": [
       "Text(0.5, 0, 'Season')"
      ]
     },
     "execution_count": 134,
     "metadata": {},
     "output_type": "execute_result"
    },
    {
     "data": {
      "text/plain": [
       "Text(0, 0.5, 'Points per Game')"
      ]
     },
     "execution_count": 134,
     "metadata": {},
     "output_type": "execute_result"
    },
    {
     "data": {
      "text/plain": [
       "Text(0.5, 1.0, 'Points per Game by NBA Scoring Leaders by Season')"
      ]
     },
     "execution_count": 134,
     "metadata": {},
     "output_type": "execute_result"
    },
    {
     "data": {
      "image/png": "[encoded data removed]",
      "text/plain": [
       "<Figure size 640x480 with 1 Axes>"
      ]
     },
     "metadata": {},
     "output_type": "display_data"
    }
   ],
   "source": [
    "season_col = nba_scoring[\"Season\"]\n",
    "score_col = nba_scoring[\"Points per Game\"]\n",
    "\n",
    "plt.plot(season_col,score_col, marker='o')\n",
    "\n",
    "plt.xlabel(\"Season\")\n",
    "plt.ylabel(\"Points per Game\")\n",
    "\n",
    "plt.title(\"Points per Game by NBA Scoring Leaders by Season\")"
   ]
  },
  {
   "cell_type": "markdown",
   "id": "ff66d8d4",
   "metadata": {},
   "source": [
    "### Insights:"
   ]
  },
  {
   "cell_type": "markdown",
   "id": "78a83c7e",
   "metadata": {},
   "source": [
    "From observing the line graph, I noticed that while there seemed to be a gradual increase in points per game as the seasons progressed, with a few outliers. The largest outlier occured in the 1961-62 season, when Wilt Chamberlain averaged 50.4 points per game."
   ]
  },
  {
   "cell_type": "markdown",
   "id": "bd7f0527",
   "metadata": {},
   "source": [
    "### 2.2: Descriptive Statistics"
   ]
  },
  {
   "cell_type": "markdown",
   "id": "87624b46",
   "metadata": {},
   "source": [
    "I also wanted to see if there was a factor that tended to be displayed by the NBA scoring leaders. I decided look at the age of the scoring leaders. My first step for this was to find some descriptive statistics for the players' age."
   ]
  },
  {
   "cell_type": "code",
   "execution_count": 147,
   "id": "11b46d5d",
   "metadata": {},
   "outputs": [
    {
     "data": {
      "text/plain": [
       "count    76.000000\n",
       "mean     25.986842\n",
       "std       2.844848\n",
       "min      21.000000\n",
       "25%      24.000000\n",
       "50%      26.000000\n",
       "75%      28.000000\n",
       "max      34.000000\n",
       "Name: Age, dtype: float64"
      ]
     },
     "execution_count": 147,
     "metadata": {},
     "output_type": "execute_result"
    }
   ],
   "source": [
    "age_col = nba_scoring[\"Age\"]\n",
    "age_col.describe()"
   ]
  },
  {
   "cell_type": "markdown",
   "id": "51917668",
   "metadata": {},
   "source": [
    "### Insights"
   ]
  },
  {
   "cell_type": "markdown",
   "id": "78259d21",
   "metadata": {},
   "source": [
    "I noticed that the mean age was around 26 years old, while the minimum and maxixum ages were 21 and 34 respectively."
   ]
  },
  {
   "cell_type": "markdown",
   "id": "d9d27a2c",
   "metadata": {},
   "source": [
    "### 2.3: Histogram"
   ]
  },
  {
   "cell_type": "markdown",
   "id": "80bcc7b0",
   "metadata": {},
   "source": [
    "In order to better understand the relationshop between age and scoring titles, I decided to create a histogram showing the frequency of scoring titles by age."
   ]
  },
  {
   "cell_type": "code",
   "execution_count": 146,
   "id": "99d482e3",
   "metadata": {},
   "outputs": [
    {
     "data": {
      "text/plain": [
       "Text(0.5, 1.0, 'Frequency of Scoring Titles by Age')"
      ]
     },
     "execution_count": 146,
     "metadata": {},
     "output_type": "execute_result"
    },
    {
     "data": {
      "text/plain": [
       "Text(0.5, 0, 'Age')"
      ]
     },
     "execution_count": 146,
     "metadata": {},
     "output_type": "execute_result"
    },
    {
     "data": {
      "text/plain": [
       "Text(0, 0.5, 'Frequency of Scoring Titles')"
      ]
     },
     "execution_count": 146,
     "metadata": {},
     "output_type": "execute_result"
    },
    {
     "data": {
      "image/png": "[encoded data removed]",
      "text/plain": [
       "<Figure size 640x480 with 1 Axes>"
      ]
     },
     "metadata": {},
     "output_type": "display_data"
    }
   ],
   "source": [
    "hist = nba_scoring[\"Age\"].hist(bins=5)\n",
    "plt.title('Frequency of Scoring Titles by Age')\n",
    "plt.xlabel('Age')\n",
    "plt.ylabel('Frequency of Scoring Titles')"
   ]
  },
  {
   "cell_type": "markdown",
   "id": "4ff15dca",
   "metadata": {},
   "source": [
    "### Insights"
   ]
  },
  {
   "cell_type": "markdown",
   "id": "141bc10a",
   "metadata": {},
   "source": [
    "From observing the histogram, I observed that the age group with the most socring titles is from 24-26 years old. With 5 bins, there is a right skew, meaning that the younger ages tend to have more scoring titles than the older ages."
   ]
  }
 ],
 "metadata": {
  "kernelspec": {
   "display_name": "Python 3 (ipykernel)",
   "language": "python",
   "name": "python3"
  },
  "language_info": {
   "codemirror_mode": {
    "name": "ipython",
    "version": 3
   },
   "file_extension": ".py",
   "mimetype": "text/x-python",
   "name": "python",
   "nbconvert_exporter": "python",
   "pygments_lexer": "ipython3",
   "version": "3.9.13"
  }
 },
 "nbformat": 4,
 "nbformat_minor": 5
}
